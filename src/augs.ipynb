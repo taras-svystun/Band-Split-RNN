{
 "cells": [
  {
   "cell_type": "code",
   "execution_count": 1,
   "id": "f89f2e47-dbb4-43a0-92ae-9e63be6c7415",
   "metadata": {},
   "outputs": [
    {
     "name": "stdout",
     "output_type": "stream",
     "text": [
      "Collecting tqdm\n",
      "  Downloading tqdm-4.66.2-py3-none-any.whl.metadata (57 kB)\n",
      "\u001b[2K     \u001b[90m━━━━━━━━━━━━━━━━━━━━━━━━━━━━━━━━━━━━━━━━\u001b[0m \u001b[32m57.6/57.6 kB\u001b[0m \u001b[31m1.4 MB/s\u001b[0m eta \u001b[36m0:00:00\u001b[0m\n",
      "\u001b[?25hDownloading tqdm-4.66.2-py3-none-any.whl (78 kB)\n",
      "\u001b[2K   \u001b[90m━━━━━━━━━━━━━━━━━━━━━━━━━━━━━━━━━━━━━━━━\u001b[0m \u001b[32m78.3/78.3 kB\u001b[0m \u001b[31m10.5 MB/s\u001b[0m eta \u001b[36m0:00:00\u001b[0m\n",
      "\u001b[?25hInstalling collected packages: tqdm\n",
      "Successfully installed tqdm-4.66.2\n",
      "\u001b[33mWARNING: Running pip as the 'root' user can result in broken permissions and conflicting behaviour with the system package manager. It is recommended to use a virtual environment instead: https://pip.pypa.io/warnings/venv\u001b[0m\u001b[33m\n",
      "\u001b[0m\n",
      "\u001b[1m[\u001b[0m\u001b[34;49mnotice\u001b[0m\u001b[1;39;49m]\u001b[0m\u001b[39;49m A new release of pip is available: \u001b[0m\u001b[31;49m23.3.1\u001b[0m\u001b[39;49m -> \u001b[0m\u001b[32;49m24.0\u001b[0m\n",
      "\u001b[1m[\u001b[0m\u001b[34;49mnotice\u001b[0m\u001b[1;39;49m]\u001b[0m\u001b[39;49m To update, run: \u001b[0m\u001b[32;49mpython -m pip install --upgrade pip\u001b[0m\n"
     ]
    }
   ],
   "source": [
    "!pip install tqdm"
   ]
  },
  {
   "cell_type": "code",
   "execution_count": 2,
   "id": "7a8bbf61-ab2e-412c-abbf-d0ea75e2d519",
   "metadata": {},
   "outputs": [],
   "source": [
    "import os\n",
    "from glob import glob\n",
    "from time import perf_counter\n",
    "import torch\n",
    "import torchaudio\n",
    "import torchaudio.transforms as T\n",
    "import torchaudio.functional as F\n",
    "import torch.nn.functional as TF\n",
    "from tqdm import tqdm"
   ]
  },
  {
   "cell_type": "code",
   "execution_count": 3,
   "id": "e8daf58f-ea59-4acd-9e9d-1b0a527ae129",
   "metadata": {},
   "outputs": [
    {
     "data": {
      "text/plain": [
       "('2.0.1+cu118', '2.0.2+cu118')"
      ]
     },
     "execution_count": 3,
     "metadata": {},
     "output_type": "execute_result"
    }
   ],
   "source": [
    "torch.__version__, torchaudio.__version__"
   ]
  },
  {
   "cell_type": "code",
   "execution_count": 4,
   "id": "2304f76b-b5c7-471a-91b9-8f3434ff4e9e",
   "metadata": {
    "scrolled": true
   },
   "outputs": [],
   "source": [
    "root = './musdb18hq_augmented/valid/'\n",
    "# os.listdir(root)"
   ]
  },
  {
   "cell_type": "code",
   "execution_count": 5,
   "id": "7a3e96aa-6aa1-462d-8102-5437c9485f26",
   "metadata": {},
   "outputs": [
    {
     "name": "stderr",
     "output_type": "stream",
     "text": [
      "  0%|          | 0/15 [00:00<?, ?it/s]"
     ]
    },
    {
     "name": "stdout",
     "output_type": "stream",
     "text": [
      "ANiMAL - Rockshow_train\n"
     ]
    },
    {
     "name": "stderr",
     "output_type": "stream",
     "text": [
      " 13%|█▎        | 2/15 [02:13<14:28, 66.78s/it]"
     ]
    },
    {
     "name": "stdout",
     "output_type": "stream",
     "text": [
      "Actions - One Minute Smile_train\n"
     ]
    },
    {
     "name": "stderr",
     "output_type": "stream",
     "text": [
      " 20%|██        | 3/15 [04:14<17:50, 89.21s/it]"
     ]
    },
    {
     "name": "stdout",
     "output_type": "stream",
     "text": [
      "Alexander Ross - Goodbye Bolero_train\n"
     ]
    },
    {
     "name": "stderr",
     "output_type": "stream",
     "text": [
      " 27%|██▋       | 4/15 [08:41<28:33, 155.75s/it]"
     ]
    },
    {
     "name": "stdout",
     "output_type": "stream",
     "text": [
      "Clara Berry And Wooldog - Waltz For My Victims_train\n"
     ]
    },
    {
     "name": "stderr",
     "output_type": "stream",
     "text": [
      " 33%|███▎      | 5/15 [10:26<22:59, 137.96s/it]"
     ]
    },
    {
     "name": "stdout",
     "output_type": "stream",
     "text": [
      "Fergessen - Nos Palpitants_train\n"
     ]
    },
    {
     "name": "stderr",
     "output_type": "stream",
     "text": [
      " 40%|████      | 6/15 [12:51<21:04, 140.49s/it]"
     ]
    },
    {
     "name": "stdout",
     "output_type": "stream",
     "text": [
      "James May - On The Line_train\n"
     ]
    },
    {
     "name": "stderr",
     "output_type": "stream",
     "text": [
      " 47%|████▋     | 7/15 [15:38<19:52, 149.05s/it]"
     ]
    },
    {
     "name": "stdout",
     "output_type": "stream",
     "text": [
      "Johnny Lokke - Promises & Lies_train\n"
     ]
    },
    {
     "name": "stderr",
     "output_type": "stream",
     "text": [
      " 53%|█████▎    | 8/15 [18:52<19:00, 162.94s/it]"
     ]
    },
    {
     "name": "stdout",
     "output_type": "stream",
     "text": [
      "Leaf - Summerghost_train\n"
     ]
    },
    {
     "name": "stderr",
     "output_type": "stream",
     "text": [
      " 60%|██████    | 9/15 [21:37<16:22, 163.79s/it]"
     ]
    },
    {
     "name": "stdout",
     "output_type": "stream",
     "text": [
      "Meaxic - Take A Step_train\n"
     ]
    },
    {
     "name": "stderr",
     "output_type": "stream",
     "text": [
      " 67%|██████▋   | 10/15 [24:51<14:25, 173.10s/it]"
     ]
    },
    {
     "name": "stdout",
     "output_type": "stream",
     "text": [
      "Patrick Talbot - A Reason To Leave_train\n"
     ]
    },
    {
     "name": "stderr",
     "output_type": "stream",
     "text": [
      " 73%|███████▎  | 11/15 [27:58<11:49, 177.31s/it]"
     ]
    },
    {
     "name": "stdout",
     "output_type": "stream",
     "text": [
      "Skelpolu - Human Mistakes_train\n"
     ]
    },
    {
     "name": "stderr",
     "output_type": "stream",
     "text": [
      " 80%|████████  | 12/15 [31:32<09:25, 188.42s/it]"
     ]
    },
    {
     "name": "stdout",
     "output_type": "stream",
     "text": [
      "Traffic Experiment - Sirens_train\n"
     ]
    },
    {
     "name": "stderr",
     "output_type": "stream",
     "text": [
      " 87%|████████▋ | 13/15 [36:06<07:08, 214.34s/it]"
     ]
    },
    {
     "name": "stdout",
     "output_type": "stream",
     "text": [
      "Triviul - Angelsaint_train\n"
     ]
    },
    {
     "name": "stderr",
     "output_type": "stream",
     "text": [
      " 93%|█████████▎| 14/15 [39:06<03:23, 203.76s/it]"
     ]
    },
    {
     "name": "stdout",
     "output_type": "stream",
     "text": [
      "Young Griffo - Pennies_train\n"
     ]
    },
    {
     "name": "stderr",
     "output_type": "stream",
     "text": [
      "100%|██████████| 15/15 [41:55<00:00, 167.68s/it]\n"
     ]
    }
   ],
   "source": [
    "\n",
    "for song in tqdm(sorted(os.listdir(root))):\n",
    "    if 'ipynb' in song:\n",
    "        pass\n",
    "    else:\n",
    "        try:\n",
    "            \n",
    "            print(song)\n",
    "        \n",
    "        \n",
    "            os.makedirs(root + song + '_higher_pitch')\n",
    "            for stem in os.listdir(root + song):\n",
    "                track, sr = torchaudio.load(root + song + '/' + stem)\n",
    "                new_track = F.pitch_shift(track, sr, 2)\n",
    "                torchaudio.save(root + song + '_higher_pitch/' + stem, new_track, sr)\n",
    "    \n",
    "            os.makedirs(root + song + '_lower_pitch')\n",
    "            for stem in os.listdir(root + song):\n",
    "                track, sr = torchaudio.load(root + song + '/' + stem)\n",
    "                new_track = F.pitch_shift(track, sr, -2)\n",
    "                torchaudio.save(root + song + '_lower_pitch/' + stem, new_track, sr)\n",
    "        \n",
    "        \n",
    "        \n",
    "            os.makedirs(root + song + '_higher_speed')\n",
    "            time_stretcher = T.Speed(44100, 1.1)\n",
    "            for stem in os.listdir(root + song):\n",
    "                track, sr = torchaudio.load(root + song + '/' + stem)\n",
    "                new_track, _ = time_stretcher(track)\n",
    "                torchaudio.save(root + song + '_higher_speed/' + stem, new_track, sr)\n",
    "            \n",
    "            os.makedirs(root + song + '_lower_speed')\n",
    "            time_stretcher = T.Speed(44100, .9)\n",
    "            for stem in os.listdir(root + song):\n",
    "                track, sr = torchaudio.load(root + song + '/' + stem)\n",
    "                new_track, _ = time_stretcher(track)\n",
    "                torchaudio.save(root + song + '_lower_speed/' + stem, new_track, sr)\n",
    "        \n",
    "        \n",
    "        \n",
    "            os.makedirs(root + song + '_shift_left')\n",
    "            for stem in os.listdir(root + song):\n",
    "                track, sr = torchaudio.load(root + song + '/' + stem)\n",
    "                torchaudio.save(root + song + '_shift_left/' + stem, track[:, 44100:], sr)\n",
    "        \n",
    "        \n",
    "            os.makedirs(root + song + '_shift_right')\n",
    "            for stem in os.listdir(root + song):\n",
    "                track, sr = torchaudio.load(root + song + '/' + stem)\n",
    "                new_track = TF.pad(track, (44100, 0))\n",
    "                torchaudio.save(root + song + '_shift_right/' + stem, new_track, sr)\n",
    "\n",
    "        except:\n",
    "            pass"
   ]
  },
  {
   "cell_type": "code",
   "execution_count": null,
   "id": "bc2fb0b1-d341-4346-bac0-e1245b738f74",
   "metadata": {},
   "outputs": [],
   "source": []
  },
  {
   "cell_type": "code",
   "execution_count": null,
   "id": "e85bda52-0097-4e2b-8adf-89ec0cdac410",
   "metadata": {},
   "outputs": [],
   "source": []
  },
  {
   "cell_type": "code",
   "execution_count": null,
   "id": "97c85120-1054-4253-9da7-221396d9515e",
   "metadata": {},
   "outputs": [],
   "source": []
  },
  {
   "cell_type": "code",
   "execution_count": null,
   "id": "d7f98a33-16fe-414b-8e95-bd793fdee151",
   "metadata": {},
   "outputs": [],
   "source": []
  },
  {
   "cell_type": "code",
   "execution_count": null,
   "id": "cf7ef017-994d-46a5-be26-ece044d0ec93",
   "metadata": {},
   "outputs": [],
   "source": []
  },
  {
   "cell_type": "code",
   "execution_count": null,
   "id": "61a51d5d-4de9-4dec-963c-cc06763e73a5",
   "metadata": {},
   "outputs": [],
   "source": []
  },
  {
   "cell_type": "code",
   "execution_count": null,
   "id": "87a77bb1-c9fd-4e44-aadf-47c6782ae0f5",
   "metadata": {},
   "outputs": [],
   "source": []
  },
  {
   "cell_type": "code",
   "execution_count": null,
   "id": "8c28724b-ed4e-43e6-95ab-605dd59dab8b",
   "metadata": {},
   "outputs": [],
   "source": []
  },
  {
   "cell_type": "code",
   "execution_count": 5,
   "id": "2c23bb69-8863-4787-b535-c0afddda17ad",
   "metadata": {},
   "outputs": [],
   "source": [
    "pitches = [-2, 2]\n",
    "speeds = [.9, 1.1]"
   ]
  },
  {
   "cell_type": "code",
   "execution_count": 6,
   "id": "2cc54d7a-ea19-4f8d-8246-943cc6e22f87",
   "metadata": {},
   "outputs": [
    {
     "data": {
      "text/plain": [
       "35"
      ]
     },
     "execution_count": 6,
     "metadata": {},
     "output_type": "execute_result"
    }
   ],
   "source": [
    "len(os.listdir('./musdb18hq_augmented/train/Alexander Ross - Goodbye Bolero'))"
   ]
  },
  {
   "cell_type": "code",
   "execution_count": 7,
   "id": "0bf4f878-28b0-45a8-82ba-9134a1e9fc44",
   "metadata": {},
   "outputs": [
    {
     "data": {
      "text/plain": [
       "True"
      ]
     },
     "execution_count": 7,
     "metadata": {},
     "output_type": "execute_result"
    }
   ],
   "source": [
    "os.path.isfile('./musdb18hq_augmented/train/Alexander Ross - Velvet Curtain/bass_pitch_-2.wav')"
   ]
  },
  {
   "cell_type": "code",
   "execution_count": 13,
   "id": "68ff2dac-3cff-47d8-8b01-59e80233fcd3",
   "metadata": {},
   "outputs": [
    {
     "name": "stdout",
     "output_type": "stream",
     "text": [
      ".ipynb_checkpoints\n",
      "[]\n"
     ]
    }
   ],
   "source": [
    "root = './musdb18hq_augmented/train/'\n",
    "for dire in os.listdir(root):\n",
    "    # print(len(os.listdir(root + dire)))\n",
    "    if len(os.listdir(root + dire)) != 5:\n",
    "        print(dire)\n",
    "        print(os.listdir(root + dire))\n",
    "    # if len(os.listdir(root + dire)) == 35 or len(os.listdir(root + dire)) == 5:\n",
    "    #     pass\n",
    "    # else:\n",
    "    #     print(dire)\n",
    "    #     print(os.listdir(root + dire))"
   ]
  },
  {
   "cell_type": "code",
   "execution_count": null,
   "id": "d68a293c-a9f9-41f2-8fbb-687d2bab93f0",
   "metadata": {},
   "outputs": [
    {
     "name": "stderr",
     "output_type": "stream",
     "text": [
      "  6%|▌         | 20/340 [08:57<2:11:52, 24.73s/it]"
     ]
    }
   ],
   "source": [
    "start = perf_counter()\n",
    "for filename in tqdm(glob('./musdb18hq_augmented/train/**/*wav', recursive=True)):\n",
    "    track, sr = torchaudio.load(filename)\n",
    "    \n",
    "\n",
    "    for pitch in pitches:\n",
    "        new_filename = filename[:-4] + f'_pitch_{pitch}' + '.wav'\n",
    "        new_track = F.pitch_shift(track, sr, pitch)\n",
    "        torchaudio.save(new_filename, new_track, sr)\n",
    "\n",
    "\n",
    "    for speed in speeds:\n",
    "        new_filename = filename[:-4] + f'_speed_{speed}' + '.wav'\n",
    "        time_stretcher = T.Speed(sr, speed)\n",
    "        new_track, _ = time_stretcher(track)\n",
    "        torchaudio.save(new_filename, new_track, sr)\n",
    "\n",
    "\n",
    "    new_filename = filename[:-4] + f'_shift_left' + '.wav'\n",
    "    new_track = track[:, 44100:]\n",
    "    torchaudio.save(new_filename, new_track, sr)\n",
    "\n",
    "    new_filename = filename[:-4] + f'_shift_right' + '.wav'\n",
    "    new_track = TF.pad(track, (44100, 0))\n",
    "    torchaudio.save(new_filename, new_track, sr)\n",
    "\n",
    "\n",
    "print(f'Elapsed time: {perf_counter() - start:.0f} sec')"
   ]
  },
  {
   "cell_type": "code",
   "execution_count": null,
   "id": "7637ccf7-d1c9-4ff3-b47d-1b0ea67c616a",
   "metadata": {},
   "outputs": [],
   "source": []
  }
 ],
 "metadata": {
  "kernelspec": {
   "display_name": "Python 3 (ipykernel)",
   "language": "python",
   "name": "python3"
  },
  "language_info": {
   "codemirror_mode": {
    "name": "ipython",
    "version": 3
   },
   "file_extension": ".py",
   "mimetype": "text/x-python",
   "name": "python",
   "nbconvert_exporter": "python",
   "pygments_lexer": "ipython3",
   "version": "3.10.12"
  }
 },
 "nbformat": 4,
 "nbformat_minor": 5
}
